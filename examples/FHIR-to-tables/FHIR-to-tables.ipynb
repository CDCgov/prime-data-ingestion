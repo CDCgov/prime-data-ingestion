{
 "cells": [
  {
   "cell_type": "markdown",
   "metadata": {},
   "source": [
    "## FHIR to Tables\n",
    "\n",
    "This notebook provides a tutorial on how to use functionality from the PHDI_building_blocks library to achieve the following:\n",
    "1. Read a user-defined schema config file that specifies one or more tables.\n",
    "2. Query a FHIR server to extract the data specified in the schema.\n",
    "3. Transform the data into a structured format.\n",
    "4. Load the data into one of the supported persistent tabular file formats.\n",
    "5. Print a summary of the tables that were created.\n",
    "\n",
    "### Getting Started\n",
    "\n",
    "To make it easier to get started we have included two additional files in this direcotry:\n",
    "1. A simple example schema config file called `example_schema.yaml`.\n",
    "2. A `requirements.txt` file that can be used to install the `PHDI_building_blocks` library in your Python environment by running `pip install -r requirements.txt`.\n"
   ]
  },
  {
   "cell_type": "markdown",
   "metadata": {},
   "source": [
    "### Import Dependencies"
   ]
  },
  {
   "cell_type": "code",
   "execution_count": 2,
   "metadata": {},
   "outputs": [],
   "source": [
    "from pathlib import Path\n",
    "from phdi_building_blocks.schemas import (\n",
    "    make_schema_tables,\n",
    "    print_schema_summary,\n",
    ")"
   ]
  },
  {
   "cell_type": "markdown",
   "metadata": {},
   "source": [
    "### Set Required Parameters"
   ]
  },
  {
   "cell_type": "code",
   "execution_count": null,
   "metadata": {},
   "outputs": [],
   "source": [
    "schema_path = \"example_schema.yaml\"  # Path to a schema config file.\n",
    "output_path = \".\"                    # Path to directory where files will be written\n",
    "output_format = \"parquet\"            # File format of tables\n",
    "fhir_url = \"your_fhir_url\"           # The URL for a FHIR server\n",
    "access_token = \"your_access_token\"   # Access token for authentication with FHIR server."
   ]
  },
  {
   "cell_type": "markdown",
   "metadata": {},
   "source": [
    "### Make the Tables"
   ]
  },
  {
   "cell_type": "code",
   "execution_count": null,
   "metadata": {},
   "outputs": [],
   "source": [
    "schema_path = Path(schema_path)\n",
    "output_path = Path(output_path)\n",
    "make_schema_tables(schema_path, output_path, output_format, fhir_url, access_token)"
   ]
  },
  {
   "cell_type": "markdown",
   "metadata": {},
   "source": [
    "### Display Summary of the Tables"
   ]
  },
  {
   "cell_type": "code",
   "execution_count": null,
   "metadata": {},
   "outputs": [],
   "source": [
    "print_schema_summary(output_path, display_head=True)"
   ]
  }
 ],
 "metadata": {
  "interpreter": {
   "hash": "c5480b40a0632cec59876b54e80e938058e086ea32829f46bcbb182f42496bd3"
  },
  "kernelspec": {
   "display_name": "Python 3.9.10 64-bit",
   "language": "python",
   "name": "python3"
  },
  "language_info": {
   "codemirror_mode": {
    "name": "ipython",
    "version": 3
   },
   "file_extension": ".py",
   "mimetype": "text/x-python",
   "name": "python",
   "nbconvert_exporter": "python",
   "pygments_lexer": "ipython3",
   "version": "3.9.10"
  },
  "orig_nbformat": 4
 },
 "nbformat": 4,
 "nbformat_minor": 2
}
