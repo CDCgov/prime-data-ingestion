{
 "cells": [
  {
   "cell_type": "markdown",
   "id": "7b306942",
   "metadata": {},
   "source": [
    "# Prototype Spatial Analytics\n",
    "These prototype spatial analytics are based on interviews we conducted with Epidemiologists at Fairfax County\n",
    "\n",
    "More details about Fairfax County Spatial Analytics use cases are documented in this Google [Doc](https://docs.google.com/document/d/1l3HAq-skWRRF_lm8Cf659uvvx7lTbBUm526-RsAse10/edit#heading=h.45gyn9vnonff).\n",
    "\n",
    "**Note, all data in this notebook is synthetic**."
   ]
  },
  {
   "cell_type": "code",
   "execution_count": 35,
   "id": "cf7bd725",
   "metadata": {},
   "outputs": [
    {
     "name": "stderr",
     "output_type": "stream",
     "text": [
      "PROJ: proj_create_from_database: SQLite error on SELECT name, type, coordinate_system_auth_name, coordinate_system_code, datum_auth_name, datum_code, area_of_use_auth_name, area_of_use_code, text_definition, deprecated FROM geodetic_crs WHERE auth_name = ? AND code = ?: no such column: area_of_use_auth_name\n"
     ]
    }
   ],
   "source": [
    "import csv\n",
    "import os\n",
    "import random\n",
    "from random import uniform\n",
    "\n",
    "import censusgeocode as cg \n",
    "from concurrent.futures import ThreadPoolExecutor\n",
    "from faker import Faker\n",
    "from geopy import Point\n",
    "from geopy.distance import geodesic\n",
    "import geopandas as gpd\n",
    "import git\n",
    "import names\n",
    "import pandas as pd\n",
    "from tqdm.notebook import tqdm"
   ]
  },
  {
   "cell_type": "code",
   "execution_count": 3,
   "id": "9f15b53a",
   "metadata": {},
   "outputs": [],
   "source": [
    "def get_git_root(path):\n",
    "    \"\"\"Return Top Level Git Repository directory given path\"\"\"\n",
    "    git_repo = git.Repo(path, search_parent_directories=True)\n",
    "    git_root = git_repo.git.rev_parse(\"--show-toplevel\")\n",
    "    return git_root"
   ]
  },
  {
   "cell_type": "code",
   "execution_count": 4,
   "id": "a06cbfa6",
   "metadata": {},
   "outputs": [],
   "source": [
    "def geocode(row):\n",
    "    \"\"\"\n",
    "    Placeholder geocoder for now, real data would come geocoded\n",
    "    \"\"\"\n",
    "    index, lat, lng = row\n",
    "    try:\n",
    "        census = cg.coordinates(lng, lat)['2020 Census Blocks'][0]\n",
    "\n",
    "        data = dict(geoid=census['GEOID'], \n",
    "                    state=census['STATE'], \n",
    "                    county=census['COUNTY'], \n",
    "                    tract=census['TRACT'], \n",
    "                    block=census['BLOCK'], \n",
    "                    lat=lat, \n",
    "                    lng=lng)\n",
    "\n",
    "    except Exception as e:\n",
    "        data = dict(lat=lat, \n",
    "                    lng=lng)\n",
    "\n",
    "    return data"
   ]
  },
  {
   "cell_type": "code",
   "execution_count": 29,
   "id": "1deaea09",
   "metadata": {},
   "outputs": [],
   "source": [
    "NOTEBOOK_PATH = os.path.abspath('')\n",
    "HOME_DIR = os.path.expanduser('~')\n",
    "INVENTORY_DIR = os.path.join(HOME_DIR, 'inventory')\n",
    "GIT_ROOT_DIR = get_git_root(NOTEBOOK_PATH)\n",
    "OUTPUTS_DIR = os.path.join(GIT_ROOT_DIR, 'src', 'notebooks', 'outputs')\n",
    "FAIRFAX_COUNTY_CENTER = Point(38.845262, -77.307035)  # Approximate center of Fairfax County chosen on Google Maps\n",
    "\n",
    "FAIRFAX_COUNTY_ZIPS = [\n",
    "    22003, 22030, 20171, 22015, 20170, 20120, 22033, 22309, 22079,\n",
    "    22306, 22031, 22042, 22312, 22310, 22153, 22032, 22315, 22152,\n",
    "    20191, 20121, 22101, 22150, 22041, 22182, 22043, 20151, 22180,\n",
    "    22102, 22311, 20190, 22124, 22046, 22151, 22039, 22066, 20124,\n",
    "    22303, 22181, 22308, 22044, 20194, 22307, 22060, 22027, 22185,\n",
    "    22035, 22081, 22092, 22082, 22095, 22096, 22103, 22107, 22106,\n",
    "    22109, 22108, 22118, 22116, 22120, 22119, 22122, 22121, 22158,\n",
    "    22156, 22160, 22159, 22161, 22183, 22184, 22199, 22009, 22037,\n",
    "    22036, 22047, 22067, 20122, 20153, 20172, 20193, 20192, 20195,\n",
    "    20196, 20511\n",
    "]"
   ]
  },
  {
   "cell_type": "code",
   "execution_count": 6,
   "id": "bf1b05a0",
   "metadata": {},
   "outputs": [],
   "source": [
    "def generate_point(center: Point, radius: int) -> Point:\n",
    "    \"\"\"\n",
    "    This is from\n",
    "    \n",
    "    https://stackoverflow.com/questions/31192451/generate-random-geo-coordinates-within-specific-radius-from-seed-point\n",
    "    \"\"\"\n",
    "    radius_in_kilometers = radius * 1e-3\n",
    "    random_distance = random.random() * radius_in_kilometers\n",
    "    random_bearing = random.random() * 360\n",
    "    return geodesic(kilometers=random_distance).destination(center, random_bearing)"
   ]
  },
  {
   "cell_type": "code",
   "execution_count": 7,
   "id": "8ed12ce1",
   "metadata": {},
   "outputs": [],
   "source": [
    "def write_points(points, filename='synthetic_locations.csv'):\n",
    "    \"\"\"\n",
    "    Output a CSV so that you can upload to Google Maps to just check the synthetic points\n",
    "    \"\"\"\n",
    "    with open(os.path.join(OUTPUTS_DIR, filename), 'w', encoding='UTF8', newline=\"\") as f:\n",
    "        writer = csv.writer(f)\n",
    "        writer.writerow(['latitude', 'longitude'])\n",
    "        for p in points:\n",
    "            writer.writerow([p[0], p[1]])"
   ]
  },
  {
   "cell_type": "code",
   "execution_count": 8,
   "id": "d27acb42",
   "metadata": {},
   "outputs": [],
   "source": [
    "radius = 10000  # By default this is in meters\n",
    "number_of_points = 2000\n",
    "center = FAIRFAX_COUNTY_CENTER\n",
    "points = [generate_point(center, radius) for _ in range(number_of_points)]\n",
    "\n",
    "write_points(points)"
   ]
  },
  {
   "cell_type": "code",
   "execution_count": 9,
   "id": "04efc0de",
   "metadata": {
    "scrolled": false
   },
   "outputs": [],
   "source": [
    "# Generating the synthetic data as a dataframe\n",
    "latitudes = []\n",
    "longitudes = []\n",
    "personids = random.sample(range(len(points)), len(points))\n",
    "first_names = []\n",
    "last_names = []\n",
    "addresses = []\n",
    "fake = Faker()\n",
    "zip_codes = []\n",
    "for p in points:\n",
    "    latitudes.append(p[0])\n",
    "    longitudes.append(p[1])\n",
    "    address = fake.address()\n",
    "    street = address.split('\\n')[0]\n",
    "    first_names.append(names.get_first_name())\n",
    "    last_names.append(names.get_last_name())\n",
    "    addresses.append(street)\n",
    "    zip_codes.append(random.sample(FAIRFAX_COUNTY_ZIPS, 1)[0])"
   ]
  },
  {
   "cell_type": "code",
   "execution_count": 11,
   "id": "f6f4da64",
   "metadata": {},
   "outputs": [],
   "source": [
    "df = pd.DataFrame({\n",
    "    'personid': personids,\n",
    "    'first_name': first_names,\n",
    "    'last_name': last_names,\n",
    "    'street_address': addresses,\n",
    "    'zip_code': zip_codes,\n",
    "    'latitude': latitudes,\n",
    "    'longitude': longitudes,\n",
    "}) "
   ]
  },
  {
   "cell_type": "code",
   "execution_count": 14,
   "id": "e36c9e85",
   "metadata": {},
   "outputs": [
    {
     "data": {
      "application/vnd.jupyter.widget-view+json": {
       "model_id": "f981513699804f259daad9bffb8d6e31",
       "version_major": 2,
       "version_minor": 0
      },
      "text/plain": [
       "  0%|          | 0/2000 [00:00<?, ?it/s]"
      ]
     },
     "metadata": {},
     "output_type": "display_data"
    }
   ],
   "source": [
    "with ThreadPoolExecutor() as tpe:\n",
    "     data = list(tqdm(tpe.map(geocode, df[['latitude', 'longitude']].itertuples()), total=len(df)))\n",
    "data_df = pd.DataFrame.from_records(data)"
   ]
  },
  {
   "cell_type": "code",
   "execution_count": 22,
   "id": "86355c80",
   "metadata": {},
   "outputs": [
    {
     "data": {
      "text/html": [
       "<div>\n",
       "<style scoped>\n",
       "    .dataframe tbody tr th:only-of-type {\n",
       "        vertical-align: middle;\n",
       "    }\n",
       "\n",
       "    .dataframe tbody tr th {\n",
       "        vertical-align: top;\n",
       "    }\n",
       "\n",
       "    .dataframe thead th {\n",
       "        text-align: right;\n",
       "    }\n",
       "</style>\n",
       "<table border=\"1\" class=\"dataframe\">\n",
       "  <thead>\n",
       "    <tr style=\"text-align: right;\">\n",
       "      <th></th>\n",
       "      <th>geoid</th>\n",
       "      <th>state</th>\n",
       "      <th>county</th>\n",
       "      <th>tract</th>\n",
       "      <th>block</th>\n",
       "      <th>lat</th>\n",
       "      <th>lng</th>\n",
       "    </tr>\n",
       "  </thead>\n",
       "  <tbody>\n",
       "    <tr>\n",
       "      <th>0</th>\n",
       "      <td>510594714021005</td>\n",
       "      <td>51</td>\n",
       "      <td>059</td>\n",
       "      <td>471402</td>\n",
       "      <td>1005</td>\n",
       "      <td>38.877225</td>\n",
       "      <td>-77.202055</td>\n",
       "    </tr>\n",
       "    <tr>\n",
       "      <th>1</th>\n",
       "      <td>510594920002034</td>\n",
       "      <td>51</td>\n",
       "      <td>059</td>\n",
       "      <td>492000</td>\n",
       "      <td>2034</td>\n",
       "      <td>38.804877</td>\n",
       "      <td>-77.365538</td>\n",
       "    </tr>\n",
       "    <tr>\n",
       "      <th>2</th>\n",
       "      <td>510594920002011</td>\n",
       "      <td>51</td>\n",
       "      <td>059</td>\n",
       "      <td>492000</td>\n",
       "      <td>2011</td>\n",
       "      <td>38.813562</td>\n",
       "      <td>-77.330581</td>\n",
       "    </tr>\n",
       "    <tr>\n",
       "      <th>3</th>\n",
       "      <td>510594920002034</td>\n",
       "      <td>51</td>\n",
       "      <td>059</td>\n",
       "      <td>492000</td>\n",
       "      <td>2034</td>\n",
       "      <td>38.810908</td>\n",
       "      <td>-77.367862</td>\n",
       "    </tr>\n",
       "    <tr>\n",
       "      <th>4</th>\n",
       "      <td>510594406001000</td>\n",
       "      <td>51</td>\n",
       "      <td>059</td>\n",
       "      <td>440600</td>\n",
       "      <td>1000</td>\n",
       "      <td>38.849496</td>\n",
       "      <td>-77.331123</td>\n",
       "    </tr>\n",
       "  </tbody>\n",
       "</table>\n",
       "</div>"
      ],
      "text/plain": [
       "             geoid state county   tract block        lat        lng\n",
       "0  510594714021005    51    059  471402  1005  38.877225 -77.202055\n",
       "1  510594920002034    51    059  492000  2034  38.804877 -77.365538\n",
       "2  510594920002011    51    059  492000  2011  38.813562 -77.330581\n",
       "3  510594920002034    51    059  492000  2034  38.810908 -77.367862\n",
       "4  510594406001000    51    059  440600  1000  38.849496 -77.331123"
      ]
     },
     "execution_count": 22,
     "metadata": {},
     "output_type": "execute_result"
    }
   ],
   "source": [
    "data_df.head()"
   ]
  },
  {
   "cell_type": "code",
   "execution_count": 26,
   "id": "a71dcc62",
   "metadata": {},
   "outputs": [],
   "source": [
    "df['census_tract'] = data_df['state'] + data_df['county'] + data_df['tract']\n",
    "df['census_block_group'] = data_df['state'] + data_df['county'] + data_df['tract'] + data_df['block'].str[0]\n",
    "df['census_block'] = data_df['geoid']"
   ]
  },
  {
   "cell_type": "code",
   "execution_count": null,
   "id": "f44aa0da",
   "metadata": {},
   "outputs": [],
   "source": [
    "def generate_covid_positive(row):\n",
    "    if row['is_fully_vax'] == 0:\n",
    "        covid_positive = random.choices([0, 1], weights=(0.97, 0.03), k=1)\n",
    "        return covid_positive[0]\n",
    "    else:\n",
    "        covid_positive = random.choices([0, 1], weights=(0.99, 0.01), k=1)\n",
    "        return covid_positive[0]\n",
    "\n",
    "is_fully_vax = random.choices([0, 1], weights=(0.4, 0.6), k=len(points))\n",
    "df['is_fully_vax'] = is_fully_vax\n",
    "df['tested_covid_positive'] = df.apply(lambda row: generate_covid_positive(row), 1)"
   ]
  },
  {
   "cell_type": "code",
   "execution_count": 27,
   "id": "154be320",
   "metadata": {},
   "outputs": [
    {
     "data": {
      "text/html": [
       "<div>\n",
       "<style scoped>\n",
       "    .dataframe tbody tr th:only-of-type {\n",
       "        vertical-align: middle;\n",
       "    }\n",
       "\n",
       "    .dataframe tbody tr th {\n",
       "        vertical-align: top;\n",
       "    }\n",
       "\n",
       "    .dataframe thead th {\n",
       "        text-align: right;\n",
       "    }\n",
       "</style>\n",
       "<table border=\"1\" class=\"dataframe\">\n",
       "  <thead>\n",
       "    <tr style=\"text-align: right;\">\n",
       "      <th></th>\n",
       "      <th>personid</th>\n",
       "      <th>first_name</th>\n",
       "      <th>last_name</th>\n",
       "      <th>street_address</th>\n",
       "      <th>zip_code</th>\n",
       "      <th>latitude</th>\n",
       "      <th>longitude</th>\n",
       "      <th>is_fully_vax</th>\n",
       "      <th>tested_covid_positive</th>\n",
       "      <th>census_tract</th>\n",
       "      <th>census_block</th>\n",
       "      <th>census_block_group</th>\n",
       "    </tr>\n",
       "  </thead>\n",
       "  <tbody>\n",
       "    <tr>\n",
       "      <th>0</th>\n",
       "      <td>1111</td>\n",
       "      <td>Bradley</td>\n",
       "      <td>Keef</td>\n",
       "      <td>96260 Johnson Station</td>\n",
       "      <td>20194</td>\n",
       "      <td>38.877225</td>\n",
       "      <td>-77.202055</td>\n",
       "      <td>0</td>\n",
       "      <td>0</td>\n",
       "      <td>51059471402</td>\n",
       "      <td>510594714021005</td>\n",
       "      <td>510594714021</td>\n",
       "    </tr>\n",
       "    <tr>\n",
       "      <th>1</th>\n",
       "      <td>578</td>\n",
       "      <td>Gail</td>\n",
       "      <td>Mcmunn</td>\n",
       "      <td>3469 John Lock Apt. 118</td>\n",
       "      <td>22096</td>\n",
       "      <td>38.804877</td>\n",
       "      <td>-77.365538</td>\n",
       "      <td>1</td>\n",
       "      <td>0</td>\n",
       "      <td>51059492000</td>\n",
       "      <td>510594920002034</td>\n",
       "      <td>510594920002</td>\n",
       "    </tr>\n",
       "    <tr>\n",
       "      <th>2</th>\n",
       "      <td>1328</td>\n",
       "      <td>Joshua</td>\n",
       "      <td>Montgomery</td>\n",
       "      <td>685 Blankenship Bridge Suite 497</td>\n",
       "      <td>22042</td>\n",
       "      <td>38.813562</td>\n",
       "      <td>-77.330581</td>\n",
       "      <td>1</td>\n",
       "      <td>0</td>\n",
       "      <td>51059492000</td>\n",
       "      <td>510594920002011</td>\n",
       "      <td>510594920002</td>\n",
       "    </tr>\n",
       "    <tr>\n",
       "      <th>3</th>\n",
       "      <td>806</td>\n",
       "      <td>Edward</td>\n",
       "      <td>Enos</td>\n",
       "      <td>8599 Hill Shores Apt. 784</td>\n",
       "      <td>20153</td>\n",
       "      <td>38.810908</td>\n",
       "      <td>-77.367862</td>\n",
       "      <td>1</td>\n",
       "      <td>0</td>\n",
       "      <td>51059492000</td>\n",
       "      <td>510594920002034</td>\n",
       "      <td>510594920002</td>\n",
       "    </tr>\n",
       "    <tr>\n",
       "      <th>4</th>\n",
       "      <td>120</td>\n",
       "      <td>Hazel</td>\n",
       "      <td>Richardson</td>\n",
       "      <td>433 Ramos Lights</td>\n",
       "      <td>22092</td>\n",
       "      <td>38.849496</td>\n",
       "      <td>-77.331123</td>\n",
       "      <td>0</td>\n",
       "      <td>0</td>\n",
       "      <td>51059440600</td>\n",
       "      <td>510594406001000</td>\n",
       "      <td>510594406001</td>\n",
       "    </tr>\n",
       "  </tbody>\n",
       "</table>\n",
       "</div>"
      ],
      "text/plain": [
       "   personid first_name   last_name                    street_address  \\\n",
       "0      1111    Bradley        Keef             96260 Johnson Station   \n",
       "1       578       Gail      Mcmunn           3469 John Lock Apt. 118   \n",
       "2      1328     Joshua  Montgomery  685 Blankenship Bridge Suite 497   \n",
       "3       806     Edward        Enos         8599 Hill Shores Apt. 784   \n",
       "4       120      Hazel  Richardson                  433 Ramos Lights   \n",
       "\n",
       "   zip_code   latitude  longitude  is_fully_vax  tested_covid_positive  \\\n",
       "0     20194  38.877225 -77.202055             0                      0   \n",
       "1     22096  38.804877 -77.365538             1                      0   \n",
       "2     22042  38.813562 -77.330581             1                      0   \n",
       "3     20153  38.810908 -77.367862             1                      0   \n",
       "4     22092  38.849496 -77.331123             0                      0   \n",
       "\n",
       "  census_tract     census_block census_block_group  \n",
       "0  51059471402  510594714021005       510594714021  \n",
       "1  51059492000  510594920002034       510594920002  \n",
       "2  51059492000  510594920002011       510594920002  \n",
       "3  51059492000  510594920002034       510594920002  \n",
       "4  51059440600  510594406001000       510594406001  "
      ]
     },
     "execution_count": 27,
     "metadata": {},
     "output_type": "execute_result"
    }
   ],
   "source": [
    "df.head()"
   ]
  },
  {
   "cell_type": "markdown",
   "id": "38874209",
   "metadata": {},
   "source": [
    "# Spatial Analytics\n",
    "\n",
    "I found this Medium [Post](https://towardsdatascience.com/mapping-census-data-fbab6722def0) and [notebook](https://github.com/allisoncstafford/seattle_tree_canopy_blog/blob/master/census_ethnicity.ipynb) to be helpful"
   ]
  },
  {
   "cell_type": "code",
   "execution_count": 36,
   "id": "4ba2cd31",
   "metadata": {},
   "outputs": [
    {
     "ename": "CRSError",
     "evalue": "Invalid projection: epsg:4326: (Internal Proj Error: proj_create: SQLite error on SELECT name, type, coordinate_system_auth_name, coordinate_system_code, datum_auth_name, datum_code, area_of_use_auth_name, area_of_use_code, text_definition, deprecated FROM geodetic_crs WHERE auth_name = ? AND code = ?: no such column: area_of_use_auth_name)",
     "output_type": "error",
     "traceback": [
      "\u001b[1;31m---------------------------------------------------------------------------\u001b[0m",
      "\u001b[1;31mCRSError\u001b[0m                                  Traceback (most recent call last)",
      "\u001b[1;32m~\\AppData\\Local\\Temp\\1/ipykernel_20032/3020264300.py\u001b[0m in \u001b[0;36m<module>\u001b[1;34m\u001b[0m\n\u001b[1;32m----> 1\u001b[1;33m \u001b[0mvirginia_map\u001b[0m \u001b[1;33m=\u001b[0m \u001b[0mgpd\u001b[0m\u001b[1;33m.\u001b[0m\u001b[0mread_file\u001b[0m\u001b[1;33m(\u001b[0m\u001b[0mos\u001b[0m\u001b[1;33m.\u001b[0m\u001b[0mpath\u001b[0m\u001b[1;33m.\u001b[0m\u001b[0mjoin\u001b[0m\u001b[1;33m(\u001b[0m\u001b[0mINVENTORY_DIR\u001b[0m\u001b[1;33m,\u001b[0m \u001b[1;34m'2019 Virginia Census Block Groups'\u001b[0m\u001b[1;33m,\u001b[0m \u001b[1;34m'geo_export_64de6806-7ef0-4c39-97f1-b52e5d986702.shp'\u001b[0m\u001b[1;33m)\u001b[0m\u001b[1;33m)\u001b[0m\u001b[1;33m\u001b[0m\u001b[1;33m\u001b[0m\u001b[0m\n\u001b[0m",
      "\u001b[1;32m~\\Anaconda3\\envs\\prime-data-ingestion-notebooks\\lib\\site-packages\\geopandas\\io\\file.py\u001b[0m in \u001b[0;36m_read_file\u001b[1;34m(filename, bbox, mask, rows, **kwargs)\u001b[0m\n\u001b[0;32m    201\u001b[0m                 )\n\u001b[0;32m    202\u001b[0m \u001b[1;33m\u001b[0m\u001b[0m\n\u001b[1;32m--> 203\u001b[1;33m             return GeoDataFrame.from_features(\n\u001b[0m\u001b[0;32m    204\u001b[0m                 \u001b[0mf_filt\u001b[0m\u001b[1;33m,\u001b[0m \u001b[0mcrs\u001b[0m\u001b[1;33m=\u001b[0m\u001b[0mcrs\u001b[0m\u001b[1;33m,\u001b[0m \u001b[0mcolumns\u001b[0m\u001b[1;33m=\u001b[0m\u001b[0mcolumns\u001b[0m \u001b[1;33m+\u001b[0m \u001b[1;33m[\u001b[0m\u001b[1;34m\"geometry\"\u001b[0m\u001b[1;33m]\u001b[0m\u001b[1;33m\u001b[0m\u001b[1;33m\u001b[0m\u001b[0m\n\u001b[0;32m    205\u001b[0m             )\n",
      "\u001b[1;32m~\\Anaconda3\\envs\\prime-data-ingestion-notebooks\\lib\\site-packages\\geopandas\\geodataframe.py\u001b[0m in \u001b[0;36mfrom_features\u001b[1;34m(cls, features, crs, columns)\u001b[0m\n\u001b[0;32m    585\u001b[0m             \u001b[0mrow\u001b[0m\u001b[1;33m.\u001b[0m\u001b[0mupdate\u001b[0m\u001b[1;33m(\u001b[0m\u001b[0mfeature\u001b[0m\u001b[1;33m[\u001b[0m\u001b[1;34m\"properties\"\u001b[0m\u001b[1;33m]\u001b[0m\u001b[1;33m)\u001b[0m\u001b[1;33m\u001b[0m\u001b[1;33m\u001b[0m\u001b[0m\n\u001b[0;32m    586\u001b[0m             \u001b[0mrows\u001b[0m\u001b[1;33m.\u001b[0m\u001b[0mappend\u001b[0m\u001b[1;33m(\u001b[0m\u001b[0mrow\u001b[0m\u001b[1;33m)\u001b[0m\u001b[1;33m\u001b[0m\u001b[1;33m\u001b[0m\u001b[0m\n\u001b[1;32m--> 587\u001b[1;33m         \u001b[1;32mreturn\u001b[0m \u001b[0mGeoDataFrame\u001b[0m\u001b[1;33m(\u001b[0m\u001b[0mrows\u001b[0m\u001b[1;33m,\u001b[0m \u001b[0mcolumns\u001b[0m\u001b[1;33m=\u001b[0m\u001b[0mcolumns\u001b[0m\u001b[1;33m,\u001b[0m \u001b[0mcrs\u001b[0m\u001b[1;33m=\u001b[0m\u001b[0mcrs\u001b[0m\u001b[1;33m)\u001b[0m\u001b[1;33m\u001b[0m\u001b[1;33m\u001b[0m\u001b[0m\n\u001b[0m\u001b[0;32m    588\u001b[0m \u001b[1;33m\u001b[0m\u001b[0m\n\u001b[0;32m    589\u001b[0m     \u001b[1;33m@\u001b[0m\u001b[0mclassmethod\u001b[0m\u001b[1;33m\u001b[0m\u001b[1;33m\u001b[0m\u001b[0m\n",
      "\u001b[1;32m~\\Anaconda3\\envs\\prime-data-ingestion-notebooks\\lib\\site-packages\\geopandas\\geodataframe.py\u001b[0m in \u001b[0;36m__init__\u001b[1;34m(self, geometry, crs, *args, **kwargs)\u001b[0m\n\u001b[0;32m    107\u001b[0m         \u001b[1;31m# need to set this before calling self['geometry'], because\u001b[0m\u001b[1;33m\u001b[0m\u001b[1;33m\u001b[0m\u001b[0m\n\u001b[0;32m    108\u001b[0m         \u001b[1;31m# getitem accesses crs\u001b[0m\u001b[1;33m\u001b[0m\u001b[1;33m\u001b[0m\u001b[0m\n\u001b[1;32m--> 109\u001b[1;33m         \u001b[0mself\u001b[0m\u001b[1;33m.\u001b[0m\u001b[0m_crs\u001b[0m \u001b[1;33m=\u001b[0m \u001b[0mCRS\u001b[0m\u001b[1;33m.\u001b[0m\u001b[0mfrom_user_input\u001b[0m\u001b[1;33m(\u001b[0m\u001b[0mcrs\u001b[0m\u001b[1;33m)\u001b[0m \u001b[1;32mif\u001b[0m \u001b[0mcrs\u001b[0m \u001b[1;32melse\u001b[0m \u001b[1;32mNone\u001b[0m\u001b[1;33m\u001b[0m\u001b[1;33m\u001b[0m\u001b[0m\n\u001b[0m\u001b[0;32m    110\u001b[0m \u001b[1;33m\u001b[0m\u001b[0m\n\u001b[0;32m    111\u001b[0m         \u001b[1;31m# set_geometry ensures the geometry data have the proper dtype,\u001b[0m\u001b[1;33m\u001b[0m\u001b[1;33m\u001b[0m\u001b[0m\n",
      "\u001b[1;32m~\\Anaconda3\\envs\\prime-data-ingestion-notebooks\\lib\\site-packages\\pyproj\\crs\\crs.py\u001b[0m in \u001b[0;36mfrom_user_input\u001b[1;34m(value, **kwargs)\u001b[0m\n\u001b[0;32m    438\u001b[0m         \u001b[1;32mif\u001b[0m \u001b[0misinstance\u001b[0m\u001b[1;33m(\u001b[0m\u001b[0mvalue\u001b[0m\u001b[1;33m,\u001b[0m \u001b[0mCRS\u001b[0m\u001b[1;33m)\u001b[0m\u001b[1;33m:\u001b[0m\u001b[1;33m\u001b[0m\u001b[1;33m\u001b[0m\u001b[0m\n\u001b[0;32m    439\u001b[0m             \u001b[1;32mreturn\u001b[0m \u001b[0mvalue\u001b[0m\u001b[1;33m\u001b[0m\u001b[1;33m\u001b[0m\u001b[0m\n\u001b[1;32m--> 440\u001b[1;33m         \u001b[1;32mreturn\u001b[0m \u001b[0mCRS\u001b[0m\u001b[1;33m(\u001b[0m\u001b[0mvalue\u001b[0m\u001b[1;33m,\u001b[0m \u001b[1;33m**\u001b[0m\u001b[0mkwargs\u001b[0m\u001b[1;33m)\u001b[0m\u001b[1;33m\u001b[0m\u001b[1;33m\u001b[0m\u001b[0m\n\u001b[0m\u001b[0;32m    441\u001b[0m \u001b[1;33m\u001b[0m\u001b[0m\n\u001b[0;32m    442\u001b[0m     \u001b[1;32mdef\u001b[0m \u001b[0mget_geod\u001b[0m\u001b[1;33m(\u001b[0m\u001b[0mself\u001b[0m\u001b[1;33m)\u001b[0m \u001b[1;33m->\u001b[0m \u001b[0mOptional\u001b[0m\u001b[1;33m[\u001b[0m\u001b[0mGeod\u001b[0m\u001b[1;33m]\u001b[0m\u001b[1;33m:\u001b[0m\u001b[1;33m\u001b[0m\u001b[1;33m\u001b[0m\u001b[0m\n",
      "\u001b[1;32m~\\Anaconda3\\envs\\prime-data-ingestion-notebooks\\lib\\site-packages\\pyproj\\crs\\crs.py\u001b[0m in \u001b[0;36m__init__\u001b[1;34m(self, projparams, **kwargs)\u001b[0m\n\u001b[0;32m    294\u001b[0m             \u001b[0mprojstring\u001b[0m \u001b[1;33m=\u001b[0m \u001b[0m_prepare_from_string\u001b[0m\u001b[1;33m(\u001b[0m\u001b[1;34m\" \"\u001b[0m\u001b[1;33m.\u001b[0m\u001b[0mjoin\u001b[0m\u001b[1;33m(\u001b[0m\u001b[1;33m(\u001b[0m\u001b[0mprojstring\u001b[0m\u001b[1;33m,\u001b[0m \u001b[0mprojkwargs\u001b[0m\u001b[1;33m)\u001b[0m\u001b[1;33m)\u001b[0m\u001b[1;33m)\u001b[0m\u001b[1;33m\u001b[0m\u001b[1;33m\u001b[0m\u001b[0m\n\u001b[0;32m    295\u001b[0m \u001b[1;33m\u001b[0m\u001b[0m\n\u001b[1;32m--> 296\u001b[1;33m         \u001b[0msuper\u001b[0m\u001b[1;33m(\u001b[0m\u001b[1;33m)\u001b[0m\u001b[1;33m.\u001b[0m\u001b[0m__init__\u001b[0m\u001b[1;33m(\u001b[0m\u001b[0mprojstring\u001b[0m\u001b[1;33m)\u001b[0m\u001b[1;33m\u001b[0m\u001b[1;33m\u001b[0m\u001b[0m\n\u001b[0m\u001b[0;32m    297\u001b[0m \u001b[1;33m\u001b[0m\u001b[0m\n\u001b[0;32m    298\u001b[0m     \u001b[1;33m@\u001b[0m\u001b[0mstaticmethod\u001b[0m\u001b[1;33m\u001b[0m\u001b[1;33m\u001b[0m\u001b[0m\n",
      "\u001b[1;32mpyproj/_crs.pyx\u001b[0m in \u001b[0;36mpyproj._crs._CRS.__init__\u001b[1;34m()\u001b[0m\n",
      "\u001b[1;31mCRSError\u001b[0m: Invalid projection: epsg:4326: (Internal Proj Error: proj_create: SQLite error on SELECT name, type, coordinate_system_auth_name, coordinate_system_code, datum_auth_name, datum_code, area_of_use_auth_name, area_of_use_code, text_definition, deprecated FROM geodetic_crs WHERE auth_name = ? AND code = ?: no such column: area_of_use_auth_name)"
     ]
    }
   ],
   "source": [
    "virginia_map = gpd.read_file(os.path.join(INVENTORY_DIR, '2019 Virginia Census Block Groups', 'geo_export_64de6806-7ef0-4c39-97f1-b52e5d986702.shp'))\n"
   ]
  },
  {
   "cell_type": "code",
   "execution_count": null,
   "id": "328f47e0",
   "metadata": {},
   "outputs": [],
   "source": [
    "result = cg.coordinates(x=-77.289, y=38.836)"
   ]
  },
  {
   "cell_type": "code",
   "execution_count": null,
   "id": "07fe4569",
   "metadata": {},
   "outputs": [],
   "source": [
    "result['Census Tracts'][0]['GEOID']"
   ]
  },
  {
   "cell_type": "code",
   "execution_count": null,
   "id": "a1dbb25f",
   "metadata": {},
   "outputs": [],
   "source": []
  }
 ],
 "metadata": {
  "kernelspec": {
   "display_name": "Python 3 (ipykernel)",
   "language": "python",
   "name": "python3"
  },
  "language_info": {
   "codemirror_mode": {
    "name": "ipython",
    "version": 3
   },
   "file_extension": ".py",
   "mimetype": "text/x-python",
   "name": "python",
   "nbconvert_exporter": "python",
   "pygments_lexer": "ipython3",
   "version": "3.9.7"
  }
 },
 "nbformat": 4,
 "nbformat_minor": 5
}
