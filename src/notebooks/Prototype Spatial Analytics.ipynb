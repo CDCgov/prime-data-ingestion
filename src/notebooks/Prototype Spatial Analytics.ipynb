{
 "cells": [
  {
   "cell_type": "markdown",
   "id": "7b306942",
   "metadata": {},
   "source": [
    "# Prototype Spatial Analytics\n",
    "This notebook performs example spatial analytics that are based on interviews we conducted with Epidemiologists at Fairfax County. More details about Fairfax County Spatial Analytics use cases are documented in this Google [Doc](https://docs.google.com/document/d/1l3HAq-skWRRF_lm8Cf659uvvx7lTbBUm526-RsAse10/edit#heading=h.45gyn9vnonff).\n",
    "\n",
    "**Note, all data in this notebook is synthetic**.\n",
    "\n",
    "1. Dataset Requirements\n",
    "    1. I assume that the dataset, in whatever format it's stored in (e.g. Parquet) can be read in some relational format. This notebook assumes dataframe in Pandas; however, R DataFrames, SAS, Stata, etc. would be analgous.\n",
    "    1. For this initial use case for breakthrough infection analytics, I assume the following fields:\n",
    "        1. pprl_generated_id (Primary Key)\n",
    "        1. first_name\n",
    "        1. last_name\n",
    "        1. street_address\n",
    "        1. zip_code\n",
    "        1. latitude\n",
    "        1. longitude\n",
    "        1. census_tract\n",
    "        1. census_block_group\n",
    "        1. census_block\n",
    "        1. is_fully_vax\n",
    "        1. tested_covid_positive\n",
    "        1. breakthrough_infection\n",
    "    1. External Datasets\n",
    "        1. To perform geospatial mapping, we require shapefiles of the underlying Polygons. For example, in this notebook we used Virginia's Shapefile for Census Block Groups ([Link](https://data.virginia.gov/Government/2019-Virginia-Census-Block-Groups/gtta-aa5t/data))\n",
    "        1. Virginia Census Tract Datafile [Link](https://catalog.data.gov/dataset/tiger-line-shapefile-2018-state-virginia-current-census-tract-state-based)\n",
    "        1. In addition, Fairfax County Parcel Data can be obtained [here](https://data-fairfaxcountygis.opendata.arcgis.com/datasets/parcels/explore?location=38.865890%2C-77.354937%2C16.00&showTable=true)\n",
    "        1. Longer term, we may need to figure out some library to access Census shapefile data more robustly.\n",
    "        \n",
    "Comment for the future -- it would be helpful, in addition, to geocoding with SmartyStreets, to also pull in data, e.g. socioeconomic data, that can be joined at census geography levels (e.g. https://www.neighborhoodatlas.medicine.wisc.edu/  Area Deprivation Index created at Census Block Group Level)"
   ]
  },
  {
   "cell_type": "code",
   "execution_count": 1,
   "id": "cf7bd725",
   "metadata": {},
   "outputs": [],
   "source": [
    "import datetime as dt\n",
    "import os\n",
    "\n",
    "import matplotlib.pyplot as plt\n",
    "import pandas as pd\n",
    "\n",
    "import phdi_analytics as pa"
   ]
  },
  {
   "cell_type": "markdown",
   "id": "a4536b0d",
   "metadata": {},
   "source": [
    "# Generate Synthetic Data\n",
    "Generate synthetic data if doesn't exist. Should only have to do this once, we save as a pickle file so that you don't have to regenerate each time. The only reason why this takes a while is because we are actually geocoding the fake datapoints."
   ]
  },
  {
   "cell_type": "code",
   "execution_count": null,
   "id": "664aad1a",
   "metadata": {},
   "outputs": [
    {
     "data": {
      "application/vnd.jupyter.widget-view+json": {
       "model_id": "7edb5c6465114588b1716c34f83c4bec",
       "version_major": 2,
       "version_minor": 0
      },
      "text/plain": [
       "  0%|          | 0/10000 [00:00<?, ?it/s]"
      ]
     },
     "metadata": {},
     "output_type": "display_data"
    }
   ],
   "source": [
    "if os.path.exists(os.path.join(pa.OUTPUTS_DIR, 'synthetic_df.pkl')):\n",
    "    df = pd.read_pickle(os.path.join(pa.OUTPUTS_DIR, 'synthetic_df.pkl'))\n",
    "    df['event_dt'] = pd.to_datetime(df['event_dt'])\n",
    "else:\n",
    "    df = pa.create_dataframe(radius=20000, number_of_points=10000, center=pa.FAIRFAX_COUNTY_CENTER)"
   ]
  },
  {
   "cell_type": "markdown",
   "id": "64edf572",
   "metadata": {},
   "source": [
    "# Analytics\n",
    "\n",
    "I found this Medium [Post](https://towardsdatascience.com/mapping-census-data-fbab6722def0) and [notebook](https://github.com/allisoncstafford/seattle_tree_canopy_blog/blob/master/census_ethnicity.ipynb) to be helpful"
   ]
  },
  {
   "cell_type": "code",
   "execution_count": null,
   "id": "7bb44d15",
   "metadata": {},
   "outputs": [],
   "source": [
    "df.head()"
   ]
  },
  {
   "cell_type": "markdown",
   "id": "17af4535",
   "metadata": {},
   "source": [
    "## Time Series Graphs"
   ]
  },
  {
   "cell_type": "code",
   "execution_count": null,
   "id": "1ed7f57b",
   "metadata": {
    "scrolled": false
   },
   "outputs": [],
   "source": [
    "fig, ax = pa.plot_time_series_metric(df=df, window='7D', metric_label='Covid Infection')\n",
    "plt.show()"
   ]
  },
  {
   "cell_type": "code",
   "execution_count": null,
   "id": "a3aa6b84",
   "metadata": {},
   "outputs": [],
   "source": [
    "fig, ax = pa.plot_time_series_metric(df=df, window='30D', metric_label='Covid Infection')\n",
    "\n",
    "ax.annotate(\n",
    "    'Peak due to Omicron',\n",
    "    xy=(dt.datetime(2022, 1, 19), 0.023),\n",
    "    xytext=(dt.datetime(2022, 1, 19), 0.0275),\n",
    "    arrowprops=dict(arrowstyle= '->', color='blue', lw=3.5, ls='--'),\n",
    "    fontsize=18,\n",
    ")\n",
    "\n",
    "plt.show()"
   ]
  },
  {
   "cell_type": "markdown",
   "id": "9436426c",
   "metadata": {},
   "source": [
    "## Spatial Analytics"
   ]
  },
  {
   "cell_type": "code",
   "execution_count": null,
   "id": "ba80fc6b",
   "metadata": {},
   "outputs": [],
   "source": [
    "pa.create_map(\n",
    "    geography='census_block_group',\n",
    "    shapefile_path=pa.VA_CBG_MAP_PATH,\n",
    "    metric='breakthrough_infection_rate',\n",
    "    df=df\n",
    ")"
   ]
  },
  {
   "cell_type": "code",
   "execution_count": null,
   "id": "7c38738f",
   "metadata": {},
   "outputs": [],
   "source": [
    "pa.create_map(\n",
    "    geography='census_tract',\n",
    "    shapefile_path=pa.VA_TRACT_MAP_PATH,\n",
    "    metric='breakthrough_infection_rate',\n",
    "    df=df\n",
    ")"
   ]
  },
  {
   "cell_type": "code",
   "execution_count": null,
   "id": "ed3c3708",
   "metadata": {},
   "outputs": [],
   "source": []
  }
 ],
 "metadata": {
  "kernelspec": {
   "display_name": "Python 3 (ipykernel)",
   "language": "python",
   "name": "python3"
  },
  "language_info": {
   "codemirror_mode": {
    "name": "ipython",
    "version": 3
   },
   "file_extension": ".py",
   "mimetype": "text/x-python",
   "name": "python",
   "nbconvert_exporter": "python",
   "pygments_lexer": "ipython3",
   "version": "3.9.7"
  }
 },
 "nbformat": 4,
 "nbformat_minor": 5
}
